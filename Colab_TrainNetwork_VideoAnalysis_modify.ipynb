{
  "nbformat": 4,
  "nbformat_minor": 0,
  "metadata": {
    "colab": {
      "name": "Colab_TrainNetwork_VideoAnalysis.ipynb",
      "version": "0.3.2",
      "provenance": [],
      "collapsed_sections": [],
      "toc_visible": true,
      "include_colab_link": true
    },
    "kernelspec": {
      "name": "python3",
      "display_name": "Python 3"
    },
    "accelerator": "GPU"
  },
  "cells": [
    {
      "cell_type": "markdown",
      "metadata": {
        "id": "view-in-github",
        "colab_type": "text"
      },
      "source": [
        "<a href=\"https://colab.research.google.com/github/shinokazu/DeepLabCut/blob/master/Colab_TrainNetwork_VideoAnalysis_modify.ipynb\" target=\"_parent\"><img src=\"https://colab.research.google.com/assets/colab-badge.svg\" alt=\"Open In Colab\"/></a>"
      ]
    },
    {
      "metadata": {
        "id": "RK255E7YoEIt",
        "colab_type": "text"
      },
      "cell_type": "markdown",
      "source": [
        "# DeepLabCut Toolbox - Colab\n",
        "https://github.com/AlexEMG/DeepLabCut\n",
        "\n",
        "Nath\\*, Mathis\\* et al. *Using DeepLabCut for markerless pose estimation during behavior across species\n",
        "https://www.biorxiv.org/content/biorxiv/early/2018/11/24/476531.full.pdf\n",
        "\n",
        "This notebook demonstrates the necessary steps to use DeepLabCut for your own project.\n",
        "\n",
        "This shows the most simple code to do so, but many of the functions have additional features, so please check out the overview & the protocol paper!\n",
        "\n",
        "This notebook illustrates how to use the cloud to:\n",
        "- create a training set\n",
        "- train a network\n",
        "- evaluate a network\n",
        "- analyze a novel video\n",
        "\n",
        "###This notebook assumes you already have a project folder with labeled data! \n",
        "\n",
        "Note, if you used WINDOWS to create the project and label, you must run \"create_training_dataset\" on Colaboratory. Now (in DeepLabCut 2.0.4) our code will automatically detect if you used Windows for project creation, and convert the files appropriately for using on Linx! \n"
      ]
    },
    {
      "metadata": {
        "id": "txoddlM8hLKm",
        "colab_type": "text"
      },
      "cell_type": "markdown",
      "source": [
        "## Let's look at info about the Colab Environment (and decide, GPU or TPU):\n",
        "\n",
        "First, go to \"Runtime\" ->\"change runtime type\"->select \"Python3\", and then decide, \"GPU or TPU!\"\"\n"
      ]
    },
    {
      "metadata": {
        "id": "4C5WRoS9g5Od",
        "colab_type": "code",
        "colab": {
          "base_uri": "https://localhost:8080/",
          "height": 85
        },
        "outputId": "dc3e8e8c-6f35-4da4-994d-aacf923c887f"
      },
      "cell_type": "code",
      "source": [
        "!nvcc --version"
      ],
      "execution_count": 1,
      "outputs": [
        {
          "output_type": "stream",
          "text": [
            "nvcc: NVIDIA (R) Cuda compiler driver\n",
            "Copyright (c) 2005-2018 NVIDIA Corporation\n",
            "Built on Sat_Aug_25_21:08:01_CDT_2018\n",
            "Cuda compilation tools, release 10.0, V10.0.130\n"
          ],
          "name": "stdout"
        }
      ]
    },
    {
      "metadata": {
        "id": "_kwKDIgdySNQ",
        "colab_type": "text"
      },
      "cell_type": "markdown",
      "source": [
        "If you want to use a GPU:"
      ]
    },
    {
      "metadata": {
        "id": "HxVNyimFp-PJ",
        "colab_type": "code",
        "colab": {
          "base_uri": "https://localhost:8080/",
          "height": 34
        },
        "outputId": "dd336489-4173-4aa5-b03e-8957b4246722"
      },
      "cell_type": "code",
      "source": [
        "import tensorflow as tf\n",
        "tf.__version__"
      ],
      "execution_count": 2,
      "outputs": [
        {
          "output_type": "execute_result",
          "data": {
            "text/plain": [
              "'1.13.0-rc2'"
            ]
          },
          "metadata": {
            "tags": []
          },
          "execution_count": 2
        }
      ]
    },
    {
      "metadata": {
        "id": "Pm_PC1Q8lRrH",
        "colab_type": "code",
        "colab": {
          "base_uri": "https://localhost:8080/",
          "height": 34
        },
        "outputId": "781a06e8-b10d-4b22-931e-02af97cf58e0"
      },
      "cell_type": "code",
      "source": [
        "#let's make sure we see a GPU:\n",
        "tf.test.gpu_device_name()\n",
        "\n",
        "#from tensorflow.python.client import device_lib\n",
        "#device_lib.list_local_devices()"
      ],
      "execution_count": 3,
      "outputs": [
        {
          "output_type": "execute_result",
          "data": {
            "text/plain": [
              "'/device:GPU:0'"
            ]
          },
          "metadata": {
            "tags": []
          },
          "execution_count": 3
        }
      ]
    },
    {
      "metadata": {
        "id": "StY_kCtQyUno",
        "colab_type": "text"
      },
      "cell_type": "markdown",
      "source": [
        "If you selected to use a TPU: "
      ]
    },
    {
      "metadata": {
        "id": "oKTs9zVGyedR",
        "colab_type": "code",
        "colab": {}
      },
      "cell_type": "code",
      "source": [
        "#let's make sure we see a TPU:\n",
        "import os\n",
        "import pprint\n",
        "import tensorflow as tf\n",
        "\n",
        "if 'COLAB_TPU_ADDR' not in os.environ:\n",
        "  print('ERROR: Not connected to a TPU runtime; please see the first cell in this notebook for instructions!')\n",
        "else:\n",
        "  tpu_address = 'grpc://' + os.environ['COLAB_TPU_ADDR']\n",
        "  print ('TPU address is', tpu_address)\n",
        "\n",
        "  with tf.Session(tpu_address) as session:\n",
        "    devices = session.list_devices()\n",
        "    \n",
        "  print('TPU devices:')\n",
        "  pprint.pprint(devices)"
      ],
      "execution_count": 0,
      "outputs": []
    },
    {
      "metadata": {
        "id": "cQ-nlTkri4HZ",
        "colab_type": "text"
      },
      "cell_type": "markdown",
      "source": [
        "## Link your Google Drive (with your labeled data, or the demo data):\n",
        "\n",
        "### First, place your porject folder into you google drive! \"i.e. move the folder named \"Project-YourName-TheDate\" into google drive."
      ]
    },
    {
      "metadata": {
        "id": "KS4Q4UkR9rgG",
        "colab_type": "code",
        "colab": {
          "base_uri": "https://localhost:8080/",
          "height": 122
        },
        "outputId": "bb6faa73-1a78-4be6-dde5-d864d21a5472"
      },
      "cell_type": "code",
      "source": [
        "#Now, let's link to your GoogleDrive. Run this cell and follow the authorization instructions:\n",
        "#(We recommend putting a copy of the github repo in your google drive if you are using the demo \"examples\")\n",
        "\n",
        "from google.colab import drive\n",
        "drive.mount('/content/drive')"
      ],
      "execution_count": 4,
      "outputs": [
        {
          "output_type": "stream",
          "text": [
            "Go to this URL in a browser: https://accounts.google.com/o/oauth2/auth?client_id=947318989803-6bn6qk8qdgf4n4g3pfee6491hc0brc4i.apps.googleusercontent.com&redirect_uri=urn%3Aietf%3Awg%3Aoauth%3A2.0%3Aoob&scope=email%20https%3A%2F%2Fwww.googleapis.com%2Fauth%2Fdocs.test%20https%3A%2F%2Fwww.googleapis.com%2Fauth%2Fdrive%20https%3A%2F%2Fwww.googleapis.com%2Fauth%2Fdrive.photos.readonly%20https%3A%2F%2Fwww.googleapis.com%2Fauth%2Fpeopleapi.readonly&response_type=code\n",
            "\n",
            "Enter your authorization code:\n",
            "··········\n",
            "Mounted at /content/drive\n"
          ],
          "name": "stdout"
        }
      ]
    },
    {
      "metadata": {
        "id": "q23BzhA6CXxu",
        "colab_type": "code",
        "colab": {
          "base_uri": "https://localhost:8080/",
          "height": 2367
        },
        "outputId": "f260e869-a7f0-4335-81c9-a7ba51e5cfe6"
      },
      "cell_type": "code",
      "source": [
        "#(this will take a few minutes to install all the dependences!)\n",
        "\n",
        "!pip install deeplabcut"
      ],
      "execution_count": 5,
      "outputs": [
        {
          "output_type": "stream",
          "text": [
            "Collecting deeplabcut\n",
            "\u001b[?25l  Downloading https://files.pythonhosted.org/packages/d0/66/00d494e2018d599fc6f1e3e878cc3e4920d72ef15dffbeb3ceaaf96261c3/deeplabcut-2.0.5-py3-none-any.whl (133kB)\n",
            "\u001b[K    100% |████████████████████████████████| 143kB 14.3MB/s \n",
            "\u001b[?25hCollecting imageio==2.3.0 (from deeplabcut)\n",
            "\u001b[?25l  Downloading https://files.pythonhosted.org/packages/a7/1d/33c8686072148b3b0fcc12a2e0857dd8316b8ae20a0fa66c8d6a6d01c05c/imageio-2.3.0-py2.py3-none-any.whl (3.3MB)\n",
            "\u001b[K    100% |████████████████████████████████| 3.3MB 9.6MB/s \n",
            "\u001b[?25hRequirement already satisfied: intel-openmp in /usr/local/lib/python3.6/dist-packages (from deeplabcut) (2019.0)\n",
            "Requirement already satisfied: matplotlib in /usr/local/lib/python3.6/dist-packages (from deeplabcut) (3.0.2)\n",
            "Collecting statsmodels==0.9.0 (from deeplabcut)\n",
            "\u001b[?25l  Downloading https://files.pythonhosted.org/packages/85/d1/69ee7e757f657e7f527cbf500ec2d295396e5bcec873cf4eb68962c41024/statsmodels-0.9.0-cp36-cp36m-manylinux1_x86_64.whl (7.4MB)\n",
            "\u001b[K    100% |████████████████████████████████| 7.4MB 5.5MB/s \n",
            "\u001b[?25hRequirement already satisfied: numpy~=1.14.5 in /usr/local/lib/python3.6/dist-packages (from deeplabcut) (1.14.6)\n",
            "Requirement already satisfied: easydict~=1.7 in /usr/local/lib/python3.6/dist-packages (from deeplabcut) (1.9)\n",
            "Requirement already satisfied: requests in /usr/local/lib/python3.6/dist-packages (from deeplabcut) (2.18.4)\n",
            "Collecting ipython~=6.0.0 (from deeplabcut)\n",
            "\u001b[?25l  Downloading https://files.pythonhosted.org/packages/b9/87/1d7eba99c0108796ef643ac0e99d1d1dccf657bcff68e223bfb967c2512a/ipython-6.0.0-py3-none-any.whl (736kB)\n",
            "\u001b[K    100% |████████████████████████████████| 737kB 26.5MB/s \n",
            "\u001b[?25hRequirement already satisfied: click in /usr/local/lib/python3.6/dist-packages (from deeplabcut) (7.0)\n",
            "Requirement already satisfied: opencv-python~=3.4 in /usr/local/lib/python3.6/dist-packages (from deeplabcut) (3.4.5.20)\n",
            "Requirement already satisfied: chardet==3.0.4 in /usr/local/lib/python3.6/dist-packages (from deeplabcut) (3.0.4)\n",
            "Requirement already satisfied: certifi in /usr/local/lib/python3.6/dist-packages (from deeplabcut) (2018.11.29)\n",
            "Collecting wheel==0.31.1 (from deeplabcut)\n",
            "\u001b[?25l  Downloading https://files.pythonhosted.org/packages/81/30/e935244ca6165187ae8be876b6316ae201b71485538ffac1d718843025a9/wheel-0.31.1-py2.py3-none-any.whl (41kB)\n",
            "\u001b[K    100% |████████████████████████████████| 51kB 22.1MB/s \n",
            "\u001b[?25hRequirement already satisfied: moviepy~=0.2.3.5 in /usr/local/lib/python3.6/dist-packages (from deeplabcut) (0.2.3.5)\n",
            "Collecting python-dateutil==2.7.3 (from deeplabcut)\n",
            "\u001b[?25l  Downloading https://files.pythonhosted.org/packages/cf/f5/af2b09c957ace60dcfac112b669c45c8c97e32f94aa8b56da4c6d1682825/python_dateutil-2.7.3-py2.py3-none-any.whl (211kB)\n",
            "\u001b[K    100% |████████████████████████████████| 215kB 30.8MB/s \n",
            "\u001b[?25hCollecting pandas==0.21.0 (from deeplabcut)\n",
            "\u001b[?25l  Downloading https://files.pythonhosted.org/packages/9b/b7/d829de9794567443fbe230a666910d2c5ea3c28a6554f1246ab004583b82/pandas-0.21.0-cp36-cp36m-manylinux1_x86_64.whl (26.2MB)\n",
            "\u001b[K    100% |████████████████████████████████| 26.2MB 1.6MB/s \n",
            "\u001b[?25hRequirement already satisfied: ipython-genutils==0.2.0 in /usr/local/lib/python3.6/dist-packages (from deeplabcut) (0.2.0)\n",
            "Requirement already satisfied: tqdm>4 in /usr/local/lib/python3.6/dist-packages (from deeplabcut) (4.28.1)\n",
            "Requirement already satisfied: scipy~=1.1.0 in /usr/local/lib/python3.6/dist-packages (from deeplabcut) (1.1.0)\n",
            "Collecting ruamel.yaml==0.15 (from deeplabcut)\n",
            "\u001b[?25l  Downloading https://files.pythonhosted.org/packages/d4/01/13c17da38beeb4a53f4db875b5d19298d24ddf9c6101821e9737f87b98c2/ruamel.yaml-0.15.0-cp36-cp36m-manylinux1_x86_64.whl (547kB)\n",
            "\u001b[K    100% |████████████████████████████████| 552kB 22.1MB/s \n",
            "\u001b[?25hRequirement already satisfied: patsy in /usr/local/lib/python3.6/dist-packages (from deeplabcut) (0.5.1)\n",
            "Collecting scikit-learn~=0.19.2 (from deeplabcut)\n",
            "\u001b[?25l  Downloading https://files.pythonhosted.org/packages/f9/c8/8db4108aba5e2166cd2ea4eafa1a4b82f89240a1fa85733029cc2358ad1f/scikit_learn-0.19.2-cp36-cp36m-manylinux1_x86_64.whl (4.9MB)\n",
            "\u001b[K    100% |████████████████████████████████| 4.9MB 8.6MB/s \n",
            "\u001b[?25hRequirement already satisfied: six==1.11.0 in /usr/local/lib/python3.6/dist-packages (from deeplabcut) (1.11.0)\n",
            "Requirement already satisfied: setuptools in /usr/local/lib/python3.6/dist-packages (from deeplabcut) (40.8.0)\n",
            "Collecting tables==3.4.3 (from deeplabcut)\n",
            "\u001b[?25l  Downloading https://files.pythonhosted.org/packages/0e/96/fdfaae19cf3c292c54e8b21dbc723a19871a767d4fa063d927ca05982409/tables-3.4.3-cp36-cp36m-manylinux1_x86_64.whl (3.8MB)\n",
            "\u001b[K    100% |████████████████████████████████| 3.8MB 10.4MB/s \n",
            "\u001b[?25hRequirement already satisfied: h5py~=2.7 in /usr/local/lib/python3.6/dist-packages (from deeplabcut) (2.8.0)\n",
            "Collecting scikit-image~=0.14.0 (from deeplabcut)\n",
            "\u001b[?25l  Downloading https://files.pythonhosted.org/packages/24/06/d560630eb9e36d90d69fe57d9ff762d8f501664ce478b8a0ae132b3c3008/scikit_image-0.14.2-cp36-cp36m-manylinux1_x86_64.whl (25.3MB)\n",
            "\u001b[K    100% |████████████████████████████████| 25.3MB 1.8MB/s \n",
            "\u001b[?25hCollecting pyyaml>=4.2b1 (from deeplabcut)\n",
            "\u001b[?25l  Downloading https://files.pythonhosted.org/packages/ff/d2/c8ef2dc18777b1a01b58513db9a11a9d32173e99b66d4e096358a825bb9a/PyYAML-5.1b1.tar.gz (274kB)\n",
            "\u001b[K    100% |████████████████████████████████| 276kB 27.3MB/s \n",
            "\u001b[?25hRequirement already satisfied: pillow in /usr/local/lib/python3.6/dist-packages (from imageio==2.3.0->deeplabcut) (4.0.0)\n",
            "Requirement already satisfied: cycler>=0.10 in /usr/local/lib/python3.6/dist-packages (from matplotlib->deeplabcut) (0.10.0)\n",
            "Requirement already satisfied: kiwisolver>=1.0.1 in /usr/local/lib/python3.6/dist-packages (from matplotlib->deeplabcut) (1.0.1)\n",
            "Requirement already satisfied: pyparsing!=2.0.4,!=2.1.2,!=2.1.6,>=2.0.1 in /usr/local/lib/python3.6/dist-packages (from matplotlib->deeplabcut) (2.3.1)\n",
            "Requirement already satisfied: idna<2.7,>=2.5 in /usr/local/lib/python3.6/dist-packages (from requests->deeplabcut) (2.6)\n",
            "Requirement already satisfied: urllib3<1.23,>=1.21.1 in /usr/local/lib/python3.6/dist-packages (from requests->deeplabcut) (1.22)\n",
            "Requirement already satisfied: simplegeneric>0.8 in /usr/local/lib/python3.6/dist-packages (from ipython~=6.0.0->deeplabcut) (0.8.1)\n",
            "Requirement already satisfied: decorator in /usr/local/lib/python3.6/dist-packages (from ipython~=6.0.0->deeplabcut) (4.3.2)\n",
            "Requirement already satisfied: pickleshare in /usr/local/lib/python3.6/dist-packages (from ipython~=6.0.0->deeplabcut) (0.7.5)\n",
            "Requirement already satisfied: traitlets>=4.2 in /usr/local/lib/python3.6/dist-packages (from ipython~=6.0.0->deeplabcut) (4.3.2)\n",
            "Requirement already satisfied: pygments in /usr/local/lib/python3.6/dist-packages (from ipython~=6.0.0->deeplabcut) (2.1.3)\n",
            "Collecting jedi>=0.10 (from ipython~=6.0.0->deeplabcut)\n",
            "\u001b[?25l  Downloading https://files.pythonhosted.org/packages/25/2b/1f188901be099d52d7b06f4d3b7cb9f8f09692c50697b139eaf6fa2928d8/jedi-0.13.3-py2.py3-none-any.whl (178kB)\n",
            "\u001b[K    100% |████████████████████████████████| 184kB 30.2MB/s \n",
            "\u001b[?25hRequirement already satisfied: pexpect; sys_platform != \"win32\" in /usr/local/lib/python3.6/dist-packages (from ipython~=6.0.0->deeplabcut) (4.6.0)\n",
            "Requirement already satisfied: prompt-toolkit<2.0.0,>=1.0.4 in /usr/local/lib/python3.6/dist-packages (from ipython~=6.0.0->deeplabcut) (1.0.15)\n",
            "Requirement already satisfied: pytz>=2011k in /usr/local/lib/python3.6/dist-packages (from pandas==0.21.0->deeplabcut) (2018.9)\n",
            "Requirement already satisfied: numexpr>=2.5.2 in /usr/local/lib/python3.6/dist-packages (from tables==3.4.3->deeplabcut) (2.6.9)\n",
            "Collecting dask[array]>=1.0.0 (from scikit-image~=0.14.0->deeplabcut)\n",
            "\u001b[?25l  Downloading https://files.pythonhosted.org/packages/06/d9/335788a25a72d4d4edbb01d6df3ca9dfc372737e1145cf73cda3a7d5e7de/dask-1.1.2-py2.py3-none-any.whl (704kB)\n",
            "\u001b[K    100% |████████████████████████████████| 706kB 21.5MB/s \n",
            "\u001b[?25hRequirement already satisfied: PyWavelets>=0.4.0 in /usr/local/lib/python3.6/dist-packages (from scikit-image~=0.14.0->deeplabcut) (1.0.1)\n",
            "Requirement already satisfied: networkx>=1.8 in /usr/local/lib/python3.6/dist-packages (from scikit-image~=0.14.0->deeplabcut) (2.2)\n",
            "Requirement already satisfied: cloudpickle>=0.2.1 in /usr/local/lib/python3.6/dist-packages (from scikit-image~=0.14.0->deeplabcut) (0.6.1)\n",
            "Requirement already satisfied: olefile in /usr/local/lib/python3.6/dist-packages (from pillow->imageio==2.3.0->deeplabcut) (0.46)\n",
            "Collecting parso>=0.3.0 (from jedi>=0.10->ipython~=6.0.0->deeplabcut)\n",
            "\u001b[?25l  Downloading https://files.pythonhosted.org/packages/19/b1/522b2671cc6d134c9d3f5dfc0d02fee07cab848e908d03d2bffea78cca8f/parso-0.3.4-py2.py3-none-any.whl (93kB)\n",
            "\u001b[K    100% |████████████████████████████████| 102kB 31.1MB/s \n",
            "\u001b[?25hRequirement already satisfied: ptyprocess>=0.5 in /usr/local/lib/python3.6/dist-packages (from pexpect; sys_platform != \"win32\"->ipython~=6.0.0->deeplabcut) (0.6.0)\n",
            "Requirement already satisfied: wcwidth in /usr/local/lib/python3.6/dist-packages (from prompt-toolkit<2.0.0,>=1.0.4->ipython~=6.0.0->deeplabcut) (0.1.7)\n",
            "Requirement already satisfied: toolz>=0.7.3; extra == \"array\" in /usr/local/lib/python3.6/dist-packages (from dask[array]>=1.0.0->scikit-image~=0.14.0->deeplabcut) (0.9.0)\n",
            "Building wheels for collected packages: pyyaml\n",
            "  Building wheel for pyyaml (setup.py) ... \u001b[?25ldone\n",
            "\u001b[?25h  Stored in directory: /root/.cache/pip/wheels/96/96/ba/ad15a750d843219c0578efe536dbb896308d70d87dc7a35c45\n",
            "Successfully built pyyaml\n",
            "\u001b[31myellowbrick 0.9.1 has requirement scikit-learn>=0.20, but you'll have scikit-learn 0.19.2 which is incompatible.\u001b[0m\n",
            "\u001b[31mscikit-image 0.14.2 has requirement pillow>=4.3.0, but you'll have pillow 4.0.0 which is incompatible.\u001b[0m\n",
            "\u001b[31mpymc3 3.6 has requirement joblib<0.13.0, but you'll have joblib 0.13.2 which is incompatible.\u001b[0m\n",
            "\u001b[31mjupyter-console 6.0.0 has requirement prompt-toolkit<2.1.0,>=2.0.0, but you'll have prompt-toolkit 1.0.15 which is incompatible.\u001b[0m\n",
            "\u001b[31mimgaug 0.2.8 has requirement numpy>=1.15.0, but you'll have numpy 1.14.6 which is incompatible.\u001b[0m\n",
            "\u001b[31mimbalanced-learn 0.4.3 has requirement scikit-learn>=0.20, but you'll have scikit-learn 0.19.2 which is incompatible.\u001b[0m\n",
            "\u001b[31mgoogle-colab 0.0.1a1 has requirement ipython~=5.5.0, but you'll have ipython 6.0.0 which is incompatible.\u001b[0m\n",
            "\u001b[31mfeaturetools 0.4.1 has requirement pandas>=0.23.0, but you'll have pandas 0.21.0 which is incompatible.\u001b[0m\n",
            "\u001b[31malbumentations 0.1.12 has requirement imgaug<0.2.7,>=0.2.5, but you'll have imgaug 0.2.8 which is incompatible.\u001b[0m\n",
            "Installing collected packages: imageio, python-dateutil, pandas, statsmodels, parso, jedi, ipython, wheel, ruamel.yaml, scikit-learn, tables, dask, scikit-image, pyyaml, deeplabcut\n",
            "  Found existing installation: imageio 2.4.1\n",
            "    Uninstalling imageio-2.4.1:\n",
            "      Successfully uninstalled imageio-2.4.1\n",
            "  Found existing installation: python-dateutil 2.5.3\n",
            "    Uninstalling python-dateutil-2.5.3:\n",
            "      Successfully uninstalled python-dateutil-2.5.3\n",
            "  Found existing installation: pandas 0.22.0\n",
            "    Uninstalling pandas-0.22.0:\n",
            "      Successfully uninstalled pandas-0.22.0\n",
            "  Found existing installation: statsmodels 0.8.0\n",
            "    Uninstalling statsmodels-0.8.0:\n",
            "      Successfully uninstalled statsmodels-0.8.0\n",
            "  Found existing installation: ipython 5.5.0\n",
            "    Uninstalling ipython-5.5.0:\n",
            "      Successfully uninstalled ipython-5.5.0\n",
            "  Found existing installation: wheel 0.33.1\n",
            "    Uninstalling wheel-0.33.1:\n",
            "      Successfully uninstalled wheel-0.33.1\n",
            "  Found existing installation: scikit-learn 0.20.2\n",
            "    Uninstalling scikit-learn-0.20.2:\n",
            "      Successfully uninstalled scikit-learn-0.20.2\n",
            "  Found existing installation: tables 3.4.4\n",
            "    Uninstalling tables-3.4.4:\n",
            "      Successfully uninstalled tables-3.4.4\n",
            "  Found existing installation: dask 0.20.2\n",
            "    Uninstalling dask-0.20.2:\n",
            "      Successfully uninstalled dask-0.20.2\n",
            "  Found existing installation: scikit-image 0.13.1\n",
            "    Uninstalling scikit-image-0.13.1:\n",
            "      Successfully uninstalled scikit-image-0.13.1\n",
            "  Found existing installation: PyYAML 3.13\n",
            "    Uninstalling PyYAML-3.13:\n",
            "      Successfully uninstalled PyYAML-3.13\n",
            "Successfully installed dask-1.1.2 deeplabcut-2.0.5 imageio-2.3.0 ipython-6.0.0 jedi-0.13.3 pandas-0.21.0 parso-0.3.4 python-dateutil-2.7.3 pyyaml-5.1b1 ruamel.yaml-0.15.0 scikit-image-0.14.2 scikit-learn-0.19.2 statsmodels-0.9.0 tables-3.4.3 wheel-0.31.1\n"
          ],
          "name": "stdout"
        },
        {
          "output_type": "display_data",
          "data": {
            "application/vnd.colab-display-data+json": {
              "pip_warning": {
                "packages": [
                  "IPython",
                  "dateutil",
                  "pandas",
                  "statsmodels",
                  "yaml"
                ]
              }
            }
          },
          "metadata": {
            "tags": []
          }
        }
      ]
    },
    {
      "metadata": {
        "id": "flnaqXzcBZ_X",
        "colab_type": "code",
        "colab": {
          "base_uri": "https://localhost:8080/",
          "height": 153
        },
        "outputId": "29dc150c-4459-40a6-cc4d-aeeca11f1788"
      },
      "cell_type": "code",
      "source": [
        "#These are some Colab specific work-arounds, but they work! (typically not required, as they are installed with \"pip install deeplabcut\")\n",
        "\n",
        "!pip install Pillow==4.0.0\n",
        "\n",
        "from PIL import Image\n",
        "def register_extension(id, extension): Image.EXTENSION[extension.lower()] = id.upper()\n",
        "Image.register_extension = register_extension\n",
        "def register_extensions(id, extensions): \n",
        "  for extension in extensions: register_extension(id, extension)\n",
        "Image.register_extensions = register_extensions\n",
        "\n",
        "!pip install ruamel.yaml==0.15\n",
        "!pip install pandas==0.21.0"
      ],
      "execution_count": 6,
      "outputs": [
        {
          "output_type": "stream",
          "text": [
            "Requirement already satisfied: Pillow==4.0.0 in /usr/local/lib/python3.6/dist-packages (4.0.0)\n",
            "Requirement already satisfied: olefile in /usr/local/lib/python3.6/dist-packages (from Pillow==4.0.0) (0.46)\n",
            "Requirement already satisfied: ruamel.yaml==0.15 in /usr/local/lib/python3.6/dist-packages (0.15.0)\n",
            "Requirement already satisfied: pandas==0.21.0 in /usr/local/lib/python3.6/dist-packages (0.21.0)\n",
            "Requirement already satisfied: python-dateutil>=2 in /usr/local/lib/python3.6/dist-packages (from pandas==0.21.0) (2.7.3)\n",
            "Requirement already satisfied: numpy>=1.9.0 in /usr/local/lib/python3.6/dist-packages (from pandas==0.21.0) (1.14.6)\n",
            "Requirement already satisfied: pytz>=2011k in /usr/local/lib/python3.6/dist-packages (from pandas==0.21.0) (2018.9)\n",
            "Requirement already satisfied: six>=1.5 in /usr/local/lib/python3.6/dist-packages (from python-dateutil>=2->pandas==0.21.0) (1.11.0)\n"
          ],
          "name": "stdout"
        }
      ]
    },
    {
      "metadata": {
        "id": "sXufoX6INe6w",
        "colab_type": "code",
        "colab": {}
      },
      "cell_type": "code",
      "source": [
        "#GUIs don't work on the cloud, so label your data locally on your computer! \n",
        "import os\n",
        "os.environ[\"DLClight\"]=\"True\"\n",
        "os.environ[\"Colab\"]=\"True\""
      ],
      "execution_count": 0,
      "outputs": []
    },
    {
      "metadata": {
        "id": "uJsZyt6Agmzp",
        "colab_type": "code",
        "colab": {
          "base_uri": "https://localhost:8080/",
          "height": 34
        },
        "outputId": "27db9caf-6ffe-43bf-bf7f-298aaf212cd4"
      },
      "cell_type": "code",
      "source": [
        "#Be sure you have a copy of your project folder in your Google Drive. Then, let's go to your deeplabcut folder!\n",
        "%cd /content/drive/My Drive/DeepLabCut-master/"
      ],
      "execution_count": 29,
      "outputs": [
        {
          "output_type": "stream",
          "text": [
            "/content/drive/My Drive/DeepLabCut-master\n"
          ],
          "name": "stdout"
        }
      ]
    },
    {
      "metadata": {
        "id": "3K9Ndy1beyfG",
        "colab_type": "code",
        "colab": {
          "base_uri": "https://localhost:8080/",
          "height": 51
        },
        "outputId": "96e2ccce-47fd-4ef8-f801-6482dc72fe95"
      },
      "cell_type": "code",
      "source": [
        "import deeplabcut\n",
        "\n",
        "#sometimes the backend kernel is defaulting to something other than what we want\n",
        "#if you see the warnings, you can re-run this cell and they go way, as we re-set the backend! :) \n",
        "\n",
        "#possible warning--> UserWarning: This call to matplotlib.use() has no effect because the backend has already\n",
        "#been chosen; matplotlib.use() must be called *before* pylab, matplotlib.pyplot, or matplotlib.backends is imported for the first time."
      ],
      "execution_count": 30,
      "outputs": [
        {
          "output_type": "stream",
          "text": [
            "DLC loaded in light mode; you cannot use the labeling GUI!\n",
            "Project loaded in colab-mode. Apparently Colab has trouble loading statsmodels, so the smooting & outlier frame extraction is disabled. Sorry!\n"
          ],
          "name": "stdout"
        }
      ]
    },
    {
      "metadata": {
        "id": "Frnj1RVDyEqs",
        "colab_type": "text"
      },
      "cell_type": "markdown",
      "source": [
        "YOU WILL NEED TO EDIT THE PROJECT PATH **in the config.yaml file** TO BE SET TO YOUR GOOGLE DRIVE LINK!\n"
      ]
    },
    {
      "metadata": {
        "id": "Z7ZlDr3wV4D1",
        "colab_type": "code",
        "colab": {}
      },
      "cell_type": "code",
      "source": [
        "#create a path variable that links to your google drive copy:\n",
        "path_config_file = '/content/drive/My Drive/DeepLabCut-master/examples/Reaching-Mackenzie-2018-08-30/config.yaml' #change to yours!"
      ],
      "execution_count": 0,
      "outputs": []
    },
    {
      "metadata": {
        "id": "xNi9s1dboEJN",
        "colab_type": "text"
      },
      "cell_type": "markdown",
      "source": [
        "## Create a training dataset:\n",
        "### You must do this step inside of Colab:\n",
        "This function generates the training data information for DeepCut (which requires a mat file) based on the pandas dataframes that hold label information. The user can set the fraction of the training set size (from all labeled image in the hd5 file) in the config.yaml file. While creating the dataset, the user can create multiple shuffles. \n",
        "\n",
        "After running this script the training dataset is created and saved in the project directory under the subdirectory **'training-datasets'**\n",
        "\n",
        "This function also creates new subdirectories under **dlc-models** and appends the project config.yaml file with the correct path to the training and testing pose configuration file. These files hold the parameters for training the network. Such an example file is provided with the toolbox and named as **pose_cfg.yaml**.\n",
        "\n",
        "Now it is the time to start training the network!"
      ]
    },
    {
      "metadata": {
        "scrolled": true,
        "id": "eMeUwgxPoEJP",
        "colab_type": "code",
        "colab": {}
      },
      "cell_type": "code",
      "source": [
        "# If you are using the demo data (i.e. examples/Reaching-Mackenzie-2018-08-30/), first delete the folder called dlc-models! \n",
        "#Then, run this cell. \n",
        "deeplabcut.create_training_dataset(path_config_file)"
      ],
      "execution_count": 0,
      "outputs": []
    },
    {
      "metadata": {
        "id": "c4FczXGDoEJU",
        "colab_type": "text"
      },
      "cell_type": "markdown",
      "source": [
        "## Start training:\n",
        "This function trains the network for a specific shuffle of the training dataset. "
      ]
    },
    {
      "metadata": {
        "id": "_pOvDq_2oEJW",
        "colab_type": "code",
        "colab": {}
      },
      "cell_type": "code",
      "source": [
        "#let's also change the display and save_iters just in case Colab takes away the GPU... \n",
        "#if that happens, you can reload from a saved point. Typically, you want to train to 200,000 + iterations.\n",
        "#more info and there are more things you can set: https://github.com/AlexEMG/DeepLabCut/blob/master/docs/functionDetails.md#g-train-the-network\n",
        "\n",
        "deeplabcut.train_network(path_config_file, shuffle=1, displayiters=10,saveiters=500)\n",
        "\n",
        "#this will run until you stop it (CTRL+C), or hit \"STOP\" icon, or when it hits the end (default, 1.03M iterations). \n",
        "#Whichever you chose, you will see what looks like an error message, but it's not an error - don't worry...."
      ],
      "execution_count": 0,
      "outputs": []
    },
    {
      "metadata": {
        "id": "RiDwIVf5-3H_",
        "colab_type": "text"
      },
      "cell_type": "markdown",
      "source": [
        "**When you hit \"STOP\" you will get a KeyInterrupt \"error\"! No worries! :)**"
      ]
    },
    {
      "metadata": {
        "id": "xZygsb2DoEJc",
        "colab_type": "text"
      },
      "cell_type": "markdown",
      "source": [
        "## Start evaluating:\n",
        "This funtion evaluates a trained model for a specific shuffle/shuffles at a particular state or all the states on the data set (images)\n",
        "and stores the results as .csv file in a subdirectory under **evaluation-results**"
      ]
    },
    {
      "metadata": {
        "id": "nv4zlbrnoEJg",
        "colab_type": "code",
        "colab": {}
      },
      "cell_type": "code",
      "source": [
        "%matplotlib inline\n",
        "deeplabcut.evaluate_network(path_config_file)#,plotting=True)\n",
        "\n",
        "# Here you want to see a low pixel error! Of course, it can only be as good as the labeler, so be sure your labels are good!"
      ],
      "execution_count": 0,
      "outputs": []
    },
    {
      "metadata": {
        "id": "BaLBl3TQtrfB",
        "colab_type": "text"
      },
      "cell_type": "markdown",
      "source": [
        "## There is an optional refinement step you can do outside of Colab:\n",
        "- if your pixel errors are not low enough, please check out the protocol guide on how to refine your network!\n",
        "- You will need to adjust the labels **outside of Colab!** We recommend coming back to train and analyze videos... \n",
        "- pplease see the repo and protocol instructions on how to refine your data!"
      ]
    },
    {
      "metadata": {
        "id": "OVFLSKKfoEJk",
        "colab_type": "text"
      },
      "cell_type": "markdown",
      "source": [
        "## Start Analyzing videos: \n",
        "This function analyzes the new video. The user can choose the best model from the evaluation results and specify the correct snapshot index for the variable **snapshotindex** in the **config.yaml** file. Otherwise, by default the most recent snapshot is used to analyse the video.\n",
        "\n",
        "The results are stored in hd5 file in the same directory where the video resides. "
      ]
    },
    {
      "metadata": {
        "id": "Y_LZiS_0oEJl",
        "colab_type": "code",
        "colab": {}
      },
      "cell_type": "code",
      "source": [
        "videofile_path = ['/content/drive/My Drive/DeepLabCut/examples/Reaching-Mackenzie-2018-08-30/videos/MovieS2_Perturbation_noLaser_compressed.avi'] #Enter the list of videos to analyze.\n",
        "deeplabcut.analyze_videos(path_config_file,videofile_path)"
      ],
      "execution_count": 0,
      "outputs": []
    },
    {
      "metadata": {
        "id": "pCrUvQIvoEKD",
        "colab_type": "text"
      },
      "cell_type": "markdown",
      "source": [
        "## Create labeled video:\n",
        "This funtion is for visualiztion purpose and can be used to create a video in .mp4 format with labels predicted by the network. This video is saved in the same directory where the original video resides. "
      ]
    },
    {
      "metadata": {
        "id": "6aDF7Q7KoEKE",
        "colab_type": "code",
        "colab": {}
      },
      "cell_type": "code",
      "source": [
        "deeplabcut.create_labeled_video(path_config_file,videofile_path)"
      ],
      "execution_count": 0,
      "outputs": []
    },
    {
      "metadata": {
        "id": "8GTiuJESoEKH",
        "colab_type": "text"
      },
      "cell_type": "markdown",
      "source": [
        "## Plot the trajectories of the analyzed videos:\n",
        "This function plots the trajectories of all the body parts across the entire video. Each body part is identified by a unique color."
      ]
    },
    {
      "metadata": {
        "id": "gX21zZbXoEKJ",
        "colab_type": "code",
        "colab": {}
      },
      "cell_type": "code",
      "source": [
        "#for making interactive plots.\n",
        "%matplotlib notebook \n",
        "deeplabcut.plot_trajectories(path_config_file,videofile_path)"
      ],
      "execution_count": 0,
      "outputs": []
    }
  ]
}